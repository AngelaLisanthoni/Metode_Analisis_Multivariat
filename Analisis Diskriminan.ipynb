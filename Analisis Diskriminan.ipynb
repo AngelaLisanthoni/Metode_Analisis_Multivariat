{
 "cells": [
  {
   "cell_type": "markdown",
   "id": "b67deeb6-be33-4f21-8015-1c2d9ebad8f1",
   "metadata": {
    "tags": []
   },
   "source": [
    "# Proyeksi Data"
   ]
  },
  {
   "cell_type": "code",
   "execution_count": 147,
   "id": "423c9d59-673d-4f16-a8e3-fec1a1c58b64",
   "metadata": {},
   "outputs": [],
   "source": [
    "import numpy as np\n",
    "\n",
    "# Assuming you have your input data stored as dictionaries or a list of dictionaries\n",
    "\n",
    "data = [\n",
    "    {'class': 1, 'X1': 2.95, 'X2': 6.63},\n",
    "    {'class': 1, 'X1': 2.53, 'X2': 7.79},\n",
    "    {'class': 1, 'X1': 3.57, 'X2': 5.65},\n",
    "    {'class': 1, 'X1': 3.16, 'X2': 5.47},\n",
    "    {'class': 2, 'X1': 2.58, 'X2': 4.46},\n",
    "    {'class': 2, 'X1': 2.16, 'X2': 6.22},\n",
    "    {'class': 2, 'X1': 3.27, 'X2': 3.52}\n",
    "]\n",
    "\n",
    "# Convert the data into a numpy array\n",
    "X = np.array([[d['X1'], d['X2']] for d in data])\n",
    "y = np.array([d['class'] for d in data])\n",
    "\n",
    "# Get unique class labels\n",
    "classes = np.unique(y)\n",
    "\n",
    "# Calculate the total mean vector\n",
    "mean_total = np.mean(X, axis=0)"
   ]
  },
  {
   "cell_type": "code",
   "execution_count": 112,
   "id": "13383c48-0e07-4eff-bfeb-d7558084c6c4",
   "metadata": {},
   "outputs": [],
   "source": [
    "import numpy as np\n",
    "\n",
    "data = [\n",
    "    {'class': 1, 'X1': 1, 'X2': 2},\n",
    "    {'class': 1, 'X1': 2, 'X2': 3},\n",
    "    {'class': 1, 'X1': 3, 'X2': 3},\n",
    "    {'class': 1, 'X1': 4, 'X2': 5},\n",
    "    {'class': 1, 'X1': 5, 'X2': 5},\n",
    "    {'class': 2, 'X1': 4, 'X2': 2},\n",
    "    {'class': 2, 'X1': 5, 'X2': 0},\n",
    "    {'class': 2, 'X1': 5, 'X2': 2},\n",
    "    {'class': 2, 'X1': 3, 'X2': 2},\n",
    "    {'class': 2, 'X1': 5, 'X2': 3},\n",
    "    {'class': 2, 'X1': 6, 'X2': 3}\n",
    "]\n",
    "\n",
    "# Convert the data into a numpy array\n",
    "X = np.array([[d['X1'], d['X2']] for d in data])\n",
    "y = np.array([d['class'] for d in data])\n",
    "\n",
    "# Get unique class labels\n",
    "classes = np.unique(y)\n",
    "\n",
    "# Calculate the total mean vector\n",
    "mean_total = np.mean(X, axis=0)"
   ]
  },
  {
   "cell_type": "markdown",
   "id": "db2691ac-16b6-4011-9413-112c560fd7f8",
   "metadata": {},
   "source": [
    "## Sw dan Sb"
   ]
  },
  {
   "cell_type": "code",
   "execution_count": 148,
   "id": "39d333c3-155e-4c6f-84f1-1f1340de70e6",
   "metadata": {},
   "outputs": [
    {
     "name": "stdout",
     "output_type": "stream",
     "text": [
      "[[0.10749031 0.46415204]\n",
      " [0.46415204 2.00424694]]\n",
      "[[ 0.562875 -1.23795 ]\n",
      " [-1.23795   3.4115  ]]\n"
     ]
    }
   ],
   "source": [
    "# Calculate the scatter matrices Sw_class and Sb\n",
    "Sw_class1 = np.zeros((2, 2))\n",
    "Sb1 = np.zeros((2, 2))\n",
    "\n",
    "X_class = X[y == 1]\n",
    "mean_class = np.mean(X_class, axis=0)\n",
    "n_class = X_class.shape[0]\n",
    "    \n",
    "Sw_class1 += np.dot((X_class - mean_class).T, (X_class - mean_class))\n",
    "Sb1 += n_class * np.outer((mean_class - mean_total), (mean_class - mean_total))\n",
    "print(Sb1)\n",
    "print(Sw_class1)"
   ]
  },
  {
   "cell_type": "code",
   "execution_count": 149,
   "id": "2b9a623c-2d82-4937-bc18-0e11c052ceea",
   "metadata": {},
   "outputs": [
    {
     "name": "stdout",
     "output_type": "stream",
     "text": [
      "[[0.14332041 0.61886939]\n",
      " [0.61886939 2.67232925]]\n",
      "[[ 0.6282     -1.4616    ]\n",
      " [-1.4616      3.75706667]]\n"
     ]
    }
   ],
   "source": [
    "# Calculate the scatter matrices Sw_class and Sb\n",
    "Sw_class2 = np.zeros((2, 2))\n",
    "Sb2 = np.zeros((2, 2))\n",
    "\n",
    "X_class2 = X[y == 2]\n",
    "mean_class2 = np.mean(X_class2, axis=0)\n",
    "n_class2 = X_class2.shape[0]\n",
    "    \n",
    "Sw_class2 += np.dot((X_class2 - mean_class2).T, (X_class2 - mean_class2))\n",
    "Sb2 += n_class2 * np.outer((mean_class2 - mean_total), (mean_class2 - mean_total))\n",
    "print(Sb2)\n",
    "print(Sw_class2)"
   ]
  },
  {
   "cell_type": "code",
   "execution_count": 150,
   "id": "eaff5647-6610-405a-ad41-955e02f59a98",
   "metadata": {},
   "outputs": [
    {
     "data": {
      "text/plain": [
       "array([[0.25081071, 1.08302143],\n",
       "       [1.08302143, 4.67657619]])"
      ]
     },
     "execution_count": 150,
     "metadata": {},
     "output_type": "execute_result"
    }
   ],
   "source": [
    "Sb = Sb1 + Sb2\n",
    "Sb"
   ]
  },
  {
   "cell_type": "markdown",
   "id": "55615a6d-bf7f-4f69-8e10-df84cc72aed0",
   "metadata": {},
   "source": [
    "## W + eigen value + eigen Vector"
   ]
  },
  {
   "cell_type": "code",
   "execution_count": 151,
   "id": "27f1e2ad-4ca1-4401-9ba7-d3fe99bd03f5",
   "metadata": {},
   "outputs": [
    {
     "name": "stdout",
     "output_type": "stream",
     "text": [
      "[[ 5.66471321 24.4607006 ]\n",
      " [ 2.37304797 10.24701759]]\n"
     ]
    }
   ],
   "source": [
    "# Calculate the eigenvalues and eigenvectors for each class\n",
    "W_class1 =np.dot(np.linalg.inv(Sw_class1), Sb)\n",
    "print(W_class1)"
   ]
  },
  {
   "cell_type": "code",
   "execution_count": 162,
   "id": "8fbeaba4-4ae8-48f8-8169-9b4902d098da",
   "metadata": {},
   "outputs": [
    {
     "name": "stdout",
     "output_type": "stream",
     "text": [
      "15.911730794893117\n",
      "[ 0.22561331 -0.38638367]\n"
     ]
    }
   ],
   "source": [
    "eigenvalues1, eigenvectors1 = np.linalg.eig(W_class1)\n",
    "print(eigenvalues1[1])\n",
    "print(eigenvectors1[1])"
   ]
  },
  {
   "cell_type": "code",
   "execution_count": 153,
   "id": "bee4fa49-442d-41aa-8494-912b205f7255",
   "metadata": {},
   "outputs": [
    {
     "data": {
      "text/plain": [
       "array([-5.28262126, -5.34344429, -5.47581492, -5.02810722])"
      ]
     },
     "execution_count": 153,
     "metadata": {},
     "output_type": "execute_result"
    }
   ],
   "source": [
    "max_discriminant_index = np.argmax(eigenvalues1)\n",
    "max_discriminant_eigenvalue = eigenvalues1[max_discriminant_index]\n",
    "max_discriminant_eigenvector = eigenvectors1[:, max_discriminant_index]\n",
    "\n",
    "# Perform projection\n",
    "projected_data = np.dot(X_class, max_discriminant_eigenvector)\n",
    "projected_data"
   ]
  },
  {
   "cell_type": "code",
   "execution_count": 154,
   "id": "94b93316-737a-461e-a1c5-5fad4798d870",
   "metadata": {},
   "outputs": [
    {
     "data": {
      "text/plain": [
       "array([[2.95, 6.63],\n",
       "       [2.53, 7.79],\n",
       "       [3.57, 5.65],\n",
       "       [3.16, 5.47]])"
      ]
     },
     "execution_count": 154,
     "metadata": {},
     "output_type": "execute_result"
    }
   ],
   "source": [
    "X_class"
   ]
  },
  {
   "cell_type": "code",
   "execution_count": 155,
   "id": "efa033c6-f83d-4fbd-b36f-35a45139245e",
   "metadata": {},
   "outputs": [
    {
     "data": {
      "text/plain": [
       "15.911730794893117"
      ]
     },
     "execution_count": 155,
     "metadata": {},
     "output_type": "execute_result"
    }
   ],
   "source": [
    "max_discriminant_eigenvalue"
   ]
  },
  {
   "cell_type": "code",
   "execution_count": 156,
   "id": "e3f768f2-0bd7-480a-b04b-0636951cc6f7",
   "metadata": {},
   "outputs": [
    {
     "data": {
      "text/plain": [
       "array([-0.92233815, -0.38638367])"
      ]
     },
     "execution_count": 156,
     "metadata": {},
     "output_type": "execute_result"
    }
   ],
   "source": [
    "max_discriminant_eigenvector"
   ]
  },
  {
   "cell_type": "markdown",
   "id": "7c92da27-41e6-4b31-b5bb-d945eb8d6352",
   "metadata": {},
   "source": [
    "### buat class 2"
   ]
  },
  {
   "cell_type": "code",
   "execution_count": 157,
   "id": "4f8b0084-ee26-435a-b037-6994e3e5d359",
   "metadata": {},
   "outputs": [
    {
     "data": {
      "text/plain": [
       "array([[11.27776099, 48.69830563],\n",
       "       [ 4.6756149 , 20.18969223]])"
      ]
     },
     "execution_count": 157,
     "metadata": {},
     "output_type": "execute_result"
    }
   ],
   "source": [
    "W_class2 =np.dot(np.linalg.inv(Sw_class2), Sb)\n",
    "W_class2"
   ]
  },
  {
   "cell_type": "code",
   "execution_count": 158,
   "id": "0b1063a3-48fb-4408-8ab9-00d14555f2c4",
   "metadata": {},
   "outputs": [
    {
     "name": "stdout",
     "output_type": "stream",
     "text": [
      "[ 0.         31.46745322]\n",
      "[[-0.97421693 -0.92375747]\n",
      " [ 0.22561331 -0.38297799]]\n"
     ]
    }
   ],
   "source": [
    "eigenvalues2, eigenvectors2 = np.linalg.eig(W_class2)\n",
    "print(eigenvalues2)\n",
    "print(eigenvectors2)"
   ]
  },
  {
   "cell_type": "code",
   "execution_count": 159,
   "id": "b7f40bd6-0f89-4b28-8e19-636fd95459a1",
   "metadata": {},
   "outputs": [
    {
     "data": {
      "text/plain": [
       "array([-4.09137609, -4.37743921, -4.36876944])"
      ]
     },
     "execution_count": 159,
     "metadata": {},
     "output_type": "execute_result"
    }
   ],
   "source": [
    "max_discriminant_index = np.argmax(eigenvalues2)\n",
    "max_discriminant_eigenvalue = eigenvalues2[max_discriminant_index]\n",
    "max_discriminant_eigenvector = eigenvectors2[:, max_discriminant_index]\n",
    "\n",
    "# Perform projection\n",
    "projected_data = np.dot(X_class2, max_discriminant_eigenvector)\n",
    "projected_data"
   ]
  },
  {
   "cell_type": "code",
   "execution_count": 144,
   "id": "ba831ad5-c973-476e-a2da-9cf0f2857379",
   "metadata": {},
   "outputs": [
    {
     "data": {
      "text/plain": [
       "array([[2.58, 4.46],\n",
       "       [2.16, 6.22],\n",
       "       [3.27, 3.52]])"
      ]
     },
     "execution_count": 144,
     "metadata": {},
     "output_type": "execute_result"
    }
   ],
   "source": [
    "X_class2"
   ]
  },
  {
   "cell_type": "code",
   "execution_count": 145,
   "id": "5bf996dd-6909-4361-b22e-467ac8eaaf82",
   "metadata": {},
   "outputs": [
    {
     "data": {
      "text/plain": [
       "31.46745322122128"
      ]
     },
     "execution_count": 145,
     "metadata": {},
     "output_type": "execute_result"
    }
   ],
   "source": [
    "max_discriminant_eigenvalue"
   ]
  },
  {
   "cell_type": "code",
   "execution_count": 146,
   "id": "1156cb4a-3605-45d2-bb64-20a73174d6b9",
   "metadata": {},
   "outputs": [
    {
     "data": {
      "text/plain": [
       "array([-0.92375747, -0.38297799])"
      ]
     },
     "execution_count": 146,
     "metadata": {},
     "output_type": "execute_result"
    }
   ],
   "source": [
    "max_discriminant_eigenvector"
   ]
  },
  {
   "cell_type": "markdown",
   "id": "3bbf913d-c83c-49c7-98c8-b6dceeb7f3cf",
   "metadata": {
    "jp-MarkdownHeadingCollapsed": true,
    "tags": []
   },
   "source": [
    "# Klasifikasi Data"
   ]
  },
  {
   "cell_type": "code",
   "execution_count": 21,
   "id": "0241ce60-d732-46a8-8cfb-83432906a8be",
   "metadata": {},
   "outputs": [],
   "source": [
    "import numpy as np\n",
    "\n",
    "data = [\n",
    "    {'class': 1, 'X1': 1, 'X2': 2},\n",
    "    {'class': 1, 'X1': 2, 'X2': 3},\n",
    "    {'class': 1, 'X1': 3, 'X2': 3},\n",
    "    {'class': 1, 'X1': 4, 'X2': 5},\n",
    "    {'class': 1, 'X1': 5, 'X2': 5},\n",
    "    {'class': 2, 'X1': 4, 'X2': 2},\n",
    "    {'class': 2, 'X1': 5, 'X2': 0},\n",
    "    {'class': 2, 'X1': 5, 'X2': 2},\n",
    "    {'class': 2, 'X1': 3, 'X2': 2},\n",
    "    {'class': 2, 'X1': 5, 'X2': 3},\n",
    "    {'class': 2, 'X1': 6, 'X2': 3}\n",
    "]\n",
    "\n",
    "# Convert the data into a numpy array\n",
    "X = np.array([[d['X1'], d['X2']] for d in data])\n",
    "y = np.array([d['class'] for d in data])\n",
    "\n",
    "# Get unique class labels\n",
    "classes = np.unique(y)\n",
    "\n",
    "# Calculate the total mean vector\n",
    "mean_total = np.mean(X, axis=0)"
   ]
  },
  {
   "cell_type": "code",
   "execution_count": 22,
   "id": "12e03dd0-955e-4042-982a-5207aa84fc35",
   "metadata": {},
   "outputs": [
    {
     "data": {
      "text/plain": [
       "array([3.90909091, 2.72727273])"
      ]
     },
     "execution_count": 22,
     "metadata": {},
     "output_type": "execute_result"
    }
   ],
   "source": [
    "mean_total"
   ]
  },
  {
   "cell_type": "code",
   "execution_count": 72,
   "id": "c2d5cf8c-7566-42ac-a6db-8c7e648d7757",
   "metadata": {},
   "outputs": [],
   "source": [
    "import numpy as np\n",
    "\n",
    "data = [\n",
    "    {'class': 1, 'X1': 54, 'X2': 72},\n",
    "    {'class': 1, 'X1': 50, 'X2': 72},\n",
    "    {'class': 1, 'X1': 48, 'X2': 56},\n",
    "    {'class': 1, 'X1': 44, 'X2': 72},\n",
    "    {'class': 1, 'X1': 47, 'X2': 64},\n",
    "    {'class': 1, 'X1': 35, 'X2': 64},\n",
    "    {'class': 1, 'X1': 36, 'X2': 56},\n",
    "    {'class': 2, 'X1': 52, 'X2': 56},\n",
    "    {'class': 2, 'X1': 23, 'X2': 56},\n",
    "    {'class': 2, 'X1': 40, 'X2': 45},\n",
    "    {'class': 2, 'X1': 34, 'X2': 56},\n",
    "    {'class': 2, 'X1': 26, 'X2': 29},\n",
    "    {'class': 2, 'X1': 25, 'X2': 56},\n",
    "    {'class': 2, 'X1': 27, 'X2': 56},\n",
    "    {'class': 2, 'X1': 29, 'X2': 30}\n",
    "]\n",
    "\n",
    "# Convert the data into a numpy array\n",
    "X = np.array([[d['X1'], d['X2']] for d in data])\n",
    "y = np.array([d['class'] for d in data])\n",
    "\n",
    "# Get unique class labels\n",
    "classes = np.unique(y)\n",
    "\n",
    "# Calculate the total mean vector\n",
    "mean_total = np.mean(X, axis=0)"
   ]
  },
  {
   "cell_type": "code",
   "execution_count": 73,
   "id": "01aedd4f-14dc-42af-a8ad-7685fb836dcd",
   "metadata": {},
   "outputs": [
    {
     "data": {
      "text/plain": [
       "array([38., 56.])"
      ]
     },
     "execution_count": 73,
     "metadata": {},
     "output_type": "execute_result"
    }
   ],
   "source": [
    "mean_total"
   ]
  },
  {
   "cell_type": "markdown",
   "id": "b14a4e21-0afd-4722-a4f9-e5b8b01f4c98",
   "metadata": {},
   "source": [
    "## Class 1"
   ]
  },
  {
   "cell_type": "code",
   "execution_count": 80,
   "id": "074ef435-6662-4d5e-abad-8bff7afc45ab",
   "metadata": {},
   "outputs": [
    {
     "name": "stdout",
     "output_type": "stream",
     "text": [
      "[[329.14285714 438.85714286]\n",
      " [438.85714286 585.14285714]]\n",
      "[[300.85714286 153.14285714]\n",
      " [153.14285714 310.85714286]]\n"
     ]
    }
   ],
   "source": [
    "# Calculate the scatter matrices Sw_class and Sb\n",
    "Sw_class1 = np.zeros((2, 2))\n",
    "Sb1 = np.zeros((2, 2))\n",
    "\n",
    "X_class1 = X[y == 1]\n",
    "mean_class1 = np.mean(X_class1, axis=0)\n",
    "n_class1 = X_class1.shape[0]\n",
    "    \n",
    "Sw_class1 += np.dot((X_class1 - mean_class1).T, (X_class1 - mean_class1))\n",
    "Sb1 += n_class1 * np.outer((mean_class1 - mean_total), (mean_class1 - mean_total))\n",
    "print(Sb1)\n",
    "print(Sw_class1)"
   ]
  },
  {
   "cell_type": "code",
   "execution_count": 81,
   "id": "e9f12205-6600-4a3c-9ecf-7350b41e7888",
   "metadata": {},
   "outputs": [
    {
     "name": "stdout",
     "output_type": "stream",
     "text": [
      "0.4666666666666667\n",
      "-0.7621400520468967\n"
     ]
    }
   ],
   "source": [
    "p1 = n_class1/X.shape[0]\n",
    "lognya1 = np.log(p1)\n",
    "print(p1)\n",
    "print(lognya1)"
   ]
  },
  {
   "cell_type": "markdown",
   "id": "65e5612d-43ad-4dd0-9221-31060ca1cfb0",
   "metadata": {},
   "source": [
    "## Class 2"
   ]
  },
  {
   "cell_type": "code",
   "execution_count": 82,
   "id": "74f4dadf-6b71-475d-bbb6-530dcfc2d9c4",
   "metadata": {},
   "outputs": [
    {
     "name": "stdout",
     "output_type": "stream",
     "text": [
      "[[288. 384.]\n",
      " [384. 512.]]\n",
      "[[ 668.  152.]\n",
      " [ 152. 1014.]]\n"
     ]
    }
   ],
   "source": [
    "# Calculate the scatter matrices Sw_class and Sb\n",
    "Sw_class2 = np.zeros((2, 2))\n",
    "Sb2 = np.zeros((2, 2))\n",
    "\n",
    "X_class2 = X[y == 2]\n",
    "mean_class2 = np.mean(X_class2, axis=0)\n",
    "n_class2 = X_class2.shape[0]\n",
    "    \n",
    "Sw_class2 += np.dot((X_class2 - mean_class2).T, (X_class2 - mean_class2))\n",
    "Sb2 += n_class2 * np.outer((mean_class2 - mean_total), (mean_class2 - mean_total))\n",
    "print(Sb2)\n",
    "print(Sw_class2)"
   ]
  },
  {
   "cell_type": "code",
   "execution_count": 83,
   "id": "5baa7be0-bd73-45ba-a497-8b1a2ccf402a",
   "metadata": {},
   "outputs": [
    {
     "name": "stdout",
     "output_type": "stream",
     "text": [
      "0.5333333333333333\n",
      "-0.6286086594223742\n"
     ]
    }
   ],
   "source": [
    "p2 = n_class2/X.shape[0]\n",
    "lognya2 = np.log(p2)\n",
    "print(p2)\n",
    "print(lognya2)"
   ]
  },
  {
   "cell_type": "markdown",
   "id": "6348b6b6-8a9f-4e04-bdba-759f9c419b18",
   "metadata": {},
   "source": [
    "## Hitung Sp"
   ]
  },
  {
   "cell_type": "code",
   "execution_count": 84,
   "id": "1cfa3188-9321-4aa0-a6b4-0cfa22fa45d3",
   "metadata": {},
   "outputs": [],
   "source": [
    "sp11 = (((n_class1-1)/(X.shape[0]-1))*Sw_class1[0][0])+(((n_class2-1)/(X.shape[0]-1))*Sw_class2[0][0])\n",
    "sp22 = (((n_class1-1)/(X.shape[0]-1))*Sw_class1[1][1])+(((n_class2-1)/(X.shape[0]-1))*Sw_class2[1][1])\n",
    "sp12 = (((n_class1-1)/(X.shape[0]-1))*Sw_class1[0][1])+(((n_class2-1)/(X.shape[0]-1))*Sw_class2[0][1])"
   ]
  },
  {
   "cell_type": "code",
   "execution_count": 85,
   "id": "19419143-0a0c-4312-ba10-a1b0118e1600",
   "metadata": {},
   "outputs": [
    {
     "data": {
      "text/plain": [
       "array([[462.93877551, 141.63265306],\n",
       "       [141.63265306, 640.2244898 ]])"
      ]
     },
     "execution_count": 85,
     "metadata": {},
     "output_type": "execute_result"
    }
   ],
   "source": [
    "sp = np.array([[sp11,sp12],[sp12,sp22]])\n",
    "sp"
   ]
  },
  {
   "cell_type": "code",
   "execution_count": 86,
   "id": "554a6ee9-1a3e-4337-aa4f-98800ead0784",
   "metadata": {},
   "outputs": [
    {
     "data": {
      "text/plain": [
       "array([[ 0.00231693, -0.00051256],\n",
       "       [-0.00051256,  0.00167534]])"
      ]
     },
     "execution_count": 86,
     "metadata": {},
     "output_type": "execute_result"
    }
   ],
   "source": [
    "sp_inv = np.linalg.inv(sp)\n",
    "sp_inv"
   ]
  },
  {
   "cell_type": "markdown",
   "id": "3967e001-8aa4-448a-a857-64179714a394",
   "metadata": {},
   "source": [
    "## 4. menghitung hasil matriks"
   ]
  },
  {
   "cell_type": "markdown",
   "id": "6e95e671-f417-42a3-ba11-205d243e195b",
   "metadata": {},
   "source": [
    "### Class 1"
   ]
  },
  {
   "cell_type": "code",
   "execution_count": 87,
   "id": "7ef91501-1df5-4d9f-80b4-d033c283e04a",
   "metadata": {},
   "outputs": [
    {
     "data": {
      "text/plain": [
       "-4.38799255771177"
      ]
     },
     "execution_count": 87,
     "metadata": {},
     "output_type": "execute_result"
    }
   ],
   "source": [
    "a = (-1/2)*np.dot(np.dot(mean_class1,sp_inv),(mean_class1).T)\n",
    "a"
   ]
  },
  {
   "cell_type": "markdown",
   "id": "bbc07473-6954-4e84-8197-a73c8d248bc6",
   "metadata": {},
   "source": [
    "### Class 2"
   ]
  },
  {
   "cell_type": "code",
   "execution_count": 88,
   "id": "924b7977-87b9-42b8-b147-a9176be51e68",
   "metadata": {},
   "outputs": [
    {
     "data": {
      "text/plain": [
       "-2.3289706296255015"
      ]
     },
     "execution_count": 88,
     "metadata": {},
     "output_type": "execute_result"
    }
   ],
   "source": [
    "b = (-1/2)*np.dot(np.dot(mean_class2,sp_inv),(mean_class2).T)\n",
    "b"
   ]
  },
  {
   "cell_type": "markdown",
   "id": "83664160-49e1-4d03-9bd9-df62a3340915",
   "metadata": {},
   "source": [
    "## 5. menghitung hasil matriks untuk x baru"
   ]
  },
  {
   "cell_type": "code",
   "execution_count": 89,
   "id": "e5a161f6-052c-484e-b750-132b486fcc6d",
   "metadata": {},
   "outputs": [
    {
     "data": {
      "text/plain": [
       "array([20, 55])"
      ]
     },
     "execution_count": 89,
     "metadata": {},
     "output_type": "execute_result"
    }
   ],
   "source": [
    "x_baru = np.array([20,55])\n",
    "x_baru"
   ]
  },
  {
   "cell_type": "markdown",
   "id": "46166a1a-b592-4b0f-ba43-d67c3ecd607b",
   "metadata": {},
   "source": [
    "### Class 1"
   ]
  },
  {
   "cell_type": "code",
   "execution_count": 90,
   "id": "9443e969-be3f-4650-8f00-520d8f3201c4",
   "metadata": {},
   "outputs": [
    {
     "data": {
      "text/plain": [
       "6.148780011937608"
      ]
     },
     "execution_count": 90,
     "metadata": {},
     "output_type": "execute_result"
    }
   ],
   "source": [
    "a1 = np.dot(np.dot(mean_class1,sp_inv),(x_baru).T)\n",
    "a1"
   ]
  },
  {
   "cell_type": "markdown",
   "id": "8e0a72e1-ea67-4aea-9c35-a48b6ec7292c",
   "metadata": {},
   "source": [
    "### Class 2"
   ]
  },
  {
   "cell_type": "code",
   "execution_count": 91,
   "id": "531bb9ab-399e-453b-bbea-63c6c4e17d02",
   "metadata": {},
   "outputs": [
    {
     "data": {
      "text/plain": [
       "4.511577045201738"
      ]
     },
     "execution_count": 91,
     "metadata": {},
     "output_type": "execute_result"
    }
   ],
   "source": [
    "b1 = np.dot(np.dot(mean_class2,sp_inv),(x_baru).T)\n",
    "b1"
   ]
  },
  {
   "cell_type": "markdown",
   "id": "730106c2-98b1-4cd6-8607-ec662c8ef746",
   "metadata": {},
   "source": [
    "## 6. Fungsi Diskriminan"
   ]
  },
  {
   "cell_type": "code",
   "execution_count": 92,
   "id": "e9fc9661-1f95-4aa1-b8e8-c89995023b90",
   "metadata": {},
   "outputs": [
    {
     "data": {
      "text/plain": [
       "array([0.9986474 , 1.55399776])"
      ]
     },
     "execution_count": 92,
     "metadata": {},
     "output_type": "execute_result"
    }
   ],
   "source": [
    "sl1= a + a1 + lognya1\n",
    "sl2= b + b1 + lognya2\n",
    "sl = np.array([sl1,sl2])\n",
    "sl"
   ]
  },
  {
   "cell_type": "code",
   "execution_count": 93,
   "id": "160e8607-0c77-4393-aa02-b095335edae5",
   "metadata": {},
   "outputs": [
    {
     "data": {
      "text/plain": [
       "1"
      ]
     },
     "execution_count": 93,
     "metadata": {},
     "output_type": "execute_result"
    }
   ],
   "source": [
    "max_sl = np.argmax(sl)\n",
    "max_sl"
   ]
  },
  {
   "cell_type": "code",
   "execution_count": 71,
   "id": "0902a945-ea6a-4569-af95-d14806ea89c6",
   "metadata": {},
   "outputs": [
    {
     "name": "stdout",
     "output_type": "stream",
     "text": [
      "maka [4 0] diklasifikasikan ke class 2\n"
     ]
    }
   ],
   "source": [
    "print('maka', x_baru, 'diklasifikasikan ke class', (max_sl+1))"
   ]
  },
  {
   "cell_type": "code",
   "execution_count": null,
   "id": "5c8d2045-450e-4839-a892-539098a16e3c",
   "metadata": {},
   "outputs": [],
   "source": []
  }
 ],
 "metadata": {
  "kernelspec": {
   "display_name": "Python 3 (ipykernel)",
   "language": "python",
   "name": "python3"
  },
  "language_info": {
   "codemirror_mode": {
    "name": "ipython",
    "version": 3
   },
   "file_extension": ".py",
   "mimetype": "text/x-python",
   "name": "python",
   "nbconvert_exporter": "python",
   "pygments_lexer": "ipython3",
   "version": "3.9.13"
  }
 },
 "nbformat": 4,
 "nbformat_minor": 5
}
